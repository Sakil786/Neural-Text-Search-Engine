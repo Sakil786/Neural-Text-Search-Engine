{
  "nbformat": 4,
  "nbformat_minor": 0,
  "metadata": {
    "colab": {
      "name": "Neaural_search.ipynb",
      "provenance": []
    },
    "kernelspec": {
      "name": "python3",
      "display_name": "Python 3"
    },
    "language_info": {
      "name": "python"
    }
  },
  "cells": [
    {
      "cell_type": "code",
      "execution_count": 1,
      "metadata": {
        "colab": {
          "base_uri": "https://localhost:8080/"
        },
        "id": "AEduixHrAqKn",
        "outputId": "38371154-a9ab-405c-b536-f6c863018cd7"
      },
      "outputs": [
        {
          "output_type": "stream",
          "name": "stdout",
          "text": [
            "Collecting docarray\n",
            "  Downloading docarray-0.13.10.tar.gz (627 kB)\n",
            "\u001b[K     |████████████████████████████████| 627 kB 4.0 MB/s \n",
            "\u001b[?25hRequirement already satisfied: numpy in /usr/local/lib/python3.7/dist-packages (from docarray) (1.21.6)\n",
            "Collecting rich>=12.0.0\n",
            "  Downloading rich-12.4.0-py3-none-any.whl (231 kB)\n",
            "\u001b[K     |████████████████████████████████| 231 kB 46.2 MB/s \n",
            "\u001b[?25hCollecting commonmark<0.10.0,>=0.9.0\n",
            "  Downloading commonmark-0.9.1-py2.py3-none-any.whl (51 kB)\n",
            "\u001b[K     |████████████████████████████████| 51 kB 5.8 MB/s \n",
            "\u001b[?25hRequirement already satisfied: typing-extensions<5.0,>=4.0.0 in /usr/local/lib/python3.7/dist-packages (from rich>=12.0.0->docarray) (4.2.0)\n",
            "Requirement already satisfied: pygments<3.0.0,>=2.6.0 in /usr/local/lib/python3.7/dist-packages (from rich>=12.0.0->docarray) (2.6.1)\n",
            "Building wheels for collected packages: docarray\n",
            "  Building wheel for docarray (setup.py) ... \u001b[?25l\u001b[?25hdone\n",
            "  Created wheel for docarray: filename=docarray-0.13.10-py3-none-any.whl size=672496 sha256=589c3b1ec05021ddab45eaac54a2ca613c8a77c0ce24b768571002e35d437c2a\n",
            "  Stored in directory: /root/.cache/pip/wheels/b0/e5/bd/4c8ebbf91297e00054d52d5ab363c1351fe03b960d95cbc5a0\n",
            "Successfully built docarray\n",
            "Installing collected packages: commonmark, rich, docarray\n",
            "Successfully installed commonmark-0.9.1 docarray-0.13.10 rich-12.4.0\n"
          ]
        }
      ],
      "source": [
        "!pip install docarray"
      ]
    },
    {
      "cell_type": "code",
      "source": [
        "#importing necessary libraries\n",
        "from docarray import Document, DocumentArray"
      ],
      "metadata": {
        "id": "Nctg38vhAr47"
      },
      "execution_count": 2,
      "outputs": []
    },
    {
      "cell_type": "code",
      "source": [
        "def search_engine():\n",
        "  data = Document(uri=\"https://www.gutenberg.org/files/1342/1342-0.txt\").load_uri_to_text()\n",
        "  # break large text into smaller chunks\n",
        "  data_chunk = DocumentArray(Document(text = s.strip()) for s in data.text.split('\\n') if s.strip())\n",
        "  data_chunk.apply(lambda data: data.embed_feature_hashing())\n",
        "  # query sentence \n",
        "  query = (Document(text=\"I hope you are well\").embed_feature_hashing().match(data_chunk, limit=3, exclude_self=True, \n",
        "  metric=\"jaccard\", use_scipy=True))\n",
        "  # fetch the output\n",
        "  result = query.matches[:, ('text', 'scores__jaccard')][0]\n",
        "  # print the results\n",
        "  for i in (result):\n",
        "    print(i)\n"
      ],
      "metadata": {
        "id": "xUzv86bgA_9W"
      },
      "execution_count": 5,
      "outputs": []
    },
    {
      "cell_type": "code",
      "source": [
        "search_engine()"
      ],
      "metadata": {
        "colab": {
          "base_uri": "https://localhost:8080/",
          "height": 69
        },
        "id": "myEQX7bqBy8i",
        "outputId": "80556d7f-ce40-41da-f9c3-9016cde8947d"
      },
      "execution_count": 6,
      "outputs": [
        {
          "output_type": "display_data",
          "data": {
            "text/plain": [
              "\n"
            ],
            "text/html": [
              "<pre style=\"white-space:pre;overflow-x:auto;line-height:normal;font-family:Menlo,'DejaVu Sans Mono',consolas,'Courier New',monospace\">\n",
              "</pre>\n"
            ]
          },
          "metadata": {}
        },
        {
          "output_type": "stream",
          "name": "stdout",
          "text": [
            "“I hope you are well, Miss Bennet. That lady, I suppose, is your\n",
            "You are not going to be _missish_, I hope, and pretend to be\n",
            "“Blame you! Oh, no.”\n"
          ]
        }
      ]
    }
  ]
}